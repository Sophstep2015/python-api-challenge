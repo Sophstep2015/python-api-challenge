{
 "cells": [
  {
   "cell_type": "markdown",
   "metadata": {},
   "source": [
    "# VacationPy\n",
    "----\n",
    "\n",
    "#### Note\n",
    "* Keep an eye on your API usage. Use https://developers.google.com/maps/reporting/gmp-reporting as reference for how to monitor your usage and billing.\n",
    "\n",
    "* Instructions have been included for each segment. You do not have to follow them exactly, but they are included to help you think through the steps."
   ]
  },
  {
   "cell_type": "code",
   "execution_count": 23,
   "metadata": {},
   "outputs": [],
   "source": [
    "# Dependencies and Setup\n",
    "import matplotlib.pyplot as plt\n",
    "import pandas as pd\n",
    "import numpy as np\n",
    "import requests\n",
    "import gmaps\n",
    "import os\n",
    "\n",
    "# Import API key\n",
    "from api_keys import g_key"
   ]
  },
  {
   "cell_type": "markdown",
   "metadata": {},
   "source": [
    "### Store Part I results into DataFrame\n",
    "* Load the csv exported in Part I to a DataFrame"
   ]
  },
  {
   "cell_type": "code",
   "execution_count": 24,
   "metadata": {},
   "outputs": [
    {
     "data": {
      "text/html": [
       "<div>\n",
       "<style scoped>\n",
       "    .dataframe tbody tr th:only-of-type {\n",
       "        vertical-align: middle;\n",
       "    }\n",
       "\n",
       "    .dataframe tbody tr th {\n",
       "        vertical-align: top;\n",
       "    }\n",
       "\n",
       "    .dataframe thead th {\n",
       "        text-align: right;\n",
       "    }\n",
       "</style>\n",
       "<table border=\"1\" class=\"dataframe\">\n",
       "  <thead>\n",
       "    <tr style=\"text-align: right;\">\n",
       "      <th></th>\n",
       "      <th>City</th>\n",
       "      <th>Latitude</th>\n",
       "      <th>Longitude</th>\n",
       "      <th>Temperature</th>\n",
       "      <th>Max Temperature</th>\n",
       "      <th>Humidity</th>\n",
       "      <th>Cloudiness</th>\n",
       "      <th>Wind</th>\n",
       "      <th>Country</th>\n",
       "      <th>Date</th>\n",
       "    </tr>\n",
       "  </thead>\n",
       "  <tbody>\n",
       "    <tr>\n",
       "      <th>0</th>\n",
       "      <td>Kaitangata</td>\n",
       "      <td>-46.2817</td>\n",
       "      <td>169.8464</td>\n",
       "      <td>60.62</td>\n",
       "      <td>60.62</td>\n",
       "      <td>69</td>\n",
       "      <td>54</td>\n",
       "      <td>5.19</td>\n",
       "      <td>NZ</td>\n",
       "      <td>1635462802</td>\n",
       "    </tr>\n",
       "    <tr>\n",
       "      <th>1</th>\n",
       "      <td>Pevek</td>\n",
       "      <td>69.7008</td>\n",
       "      <td>170.3133</td>\n",
       "      <td>1.92</td>\n",
       "      <td>1.92</td>\n",
       "      <td>93</td>\n",
       "      <td>100</td>\n",
       "      <td>4.74</td>\n",
       "      <td>RU</td>\n",
       "      <td>1635462803</td>\n",
       "    </tr>\n",
       "    <tr>\n",
       "      <th>2</th>\n",
       "      <td>Kapit</td>\n",
       "      <td>2.0167</td>\n",
       "      <td>112.9333</td>\n",
       "      <td>73.80</td>\n",
       "      <td>73.80</td>\n",
       "      <td>100</td>\n",
       "      <td>100</td>\n",
       "      <td>0.29</td>\n",
       "      <td>MY</td>\n",
       "      <td>1635462805</td>\n",
       "    </tr>\n",
       "    <tr>\n",
       "      <th>3</th>\n",
       "      <td>Cascais</td>\n",
       "      <td>38.6979</td>\n",
       "      <td>-9.4215</td>\n",
       "      <td>65.21</td>\n",
       "      <td>66.51</td>\n",
       "      <td>73</td>\n",
       "      <td>100</td>\n",
       "      <td>3.00</td>\n",
       "      <td>PT</td>\n",
       "      <td>1635462805</td>\n",
       "    </tr>\n",
       "    <tr>\n",
       "      <th>4</th>\n",
       "      <td>Den Chai</td>\n",
       "      <td>17.9837</td>\n",
       "      <td>100.0522</td>\n",
       "      <td>77.61</td>\n",
       "      <td>77.61</td>\n",
       "      <td>95</td>\n",
       "      <td>91</td>\n",
       "      <td>2.53</td>\n",
       "      <td>TH</td>\n",
       "      <td>1635462806</td>\n",
       "    </tr>\n",
       "  </tbody>\n",
       "</table>\n",
       "</div>"
      ],
      "text/plain": [
       "         City  Latitude  Longitude  Temperature  Max Temperature  Humidity  \\\n",
       "0  Kaitangata  -46.2817   169.8464        60.62            60.62        69   \n",
       "1       Pevek   69.7008   170.3133         1.92             1.92        93   \n",
       "2       Kapit    2.0167   112.9333        73.80            73.80       100   \n",
       "3     Cascais   38.6979    -9.4215        65.21            66.51        73   \n",
       "4    Den Chai   17.9837   100.0522        77.61            77.61        95   \n",
       "\n",
       "   Cloudiness  Wind Country        Date  \n",
       "0          54  5.19      NZ  1635462802  \n",
       "1         100  4.74      RU  1635462803  \n",
       "2         100  0.29      MY  1635462805  \n",
       "3         100  3.00      PT  1635462805  \n",
       "4          91  2.53      TH  1635462806  "
      ]
     },
     "execution_count": 24,
     "metadata": {},
     "output_type": "execute_result"
    }
   ],
   "source": [
    "data = pd.read_csv(\"city_weather_data.csv\")\n",
    "data.head()"
   ]
  },
  {
   "cell_type": "markdown",
   "metadata": {},
   "source": [
    "### Humidity Heatmap\n",
    "* Configure gmaps.\n",
    "* Use the Lat and Lng as locations and Humidity as the weight.\n",
    "* Add Heatmap layer to map."
   ]
  },
  {
   "cell_type": "code",
   "execution_count": 26,
   "metadata": {},
   "outputs": [],
   "source": [
    "humidity = data[\"Humidity\"]\n",
    "m_humidity = humidity.max()\n",
    "locations = data[[\"Latitude\",\"Longitude\"]]"
   ]
  },
  {
   "cell_type": "code",
   "execution_count": 27,
   "metadata": {
    "scrolled": true
   },
   "outputs": [
    {
     "data": {
      "application/vnd.jupyter.widget-view+json": {
       "model_id": "a0d83d9742af42779fc47ee20749b476",
       "version_major": 2,
       "version_minor": 0
      },
      "text/plain": [
       "Figure(layout=FigureLayout(height='420px'))"
      ]
     },
     "metadata": {},
     "output_type": "display_data"
    }
   ],
   "source": [
    "maps = gmaps.figure()\n",
    "heat_layer = gmaps.heatmap_layer(locations, weights=humidity, max_intensity = 8,point_radius = 3)\n",
    "maps.add_layer(heat_layer)\n",
    "maps"
   ]
  },
  {
   "cell_type": "markdown",
   "metadata": {},
   "source": [
    "### Create new DataFrame fitting weather criteria\n",
    "* Narrow down the cities to fit weather conditions.\n",
    "* Drop any rows will null values."
   ]
  },
  {
   "cell_type": "code",
   "execution_count": 31,
   "metadata": {},
   "outputs": [
    {
     "data": {
      "text/html": [
       "<div>\n",
       "<style scoped>\n",
       "    .dataframe tbody tr th:only-of-type {\n",
       "        vertical-align: middle;\n",
       "    }\n",
       "\n",
       "    .dataframe tbody tr th {\n",
       "        vertical-align: top;\n",
       "    }\n",
       "\n",
       "    .dataframe thead th {\n",
       "        text-align: right;\n",
       "    }\n",
       "</style>\n",
       "<table border=\"1\" class=\"dataframe\">\n",
       "  <thead>\n",
       "    <tr style=\"text-align: right;\">\n",
       "      <th></th>\n",
       "      <th>index</th>\n",
       "      <th>City</th>\n",
       "      <th>Latitude</th>\n",
       "      <th>Longitude</th>\n",
       "      <th>Temperature</th>\n",
       "      <th>Max Temperature</th>\n",
       "      <th>Humidity</th>\n",
       "      <th>Cloudiness</th>\n",
       "      <th>Wind</th>\n",
       "      <th>Country</th>\n",
       "      <th>Date</th>\n",
       "    </tr>\n",
       "  </thead>\n",
       "  <tbody>\n",
       "    <tr>\n",
       "      <th>0</th>\n",
       "      <td>215</td>\n",
       "      <td>Half Moon Bay</td>\n",
       "      <td>37.4636</td>\n",
       "      <td>-122.4286</td>\n",
       "      <td>75.06</td>\n",
       "      <td>80.78</td>\n",
       "      <td>54</td>\n",
       "      <td>1</td>\n",
       "      <td>3.00</td>\n",
       "      <td>US</td>\n",
       "      <td>1635463018</td>\n",
       "    </tr>\n",
       "    <tr>\n",
       "      <th>1</th>\n",
       "      <td>271</td>\n",
       "      <td>Lázaro Cárdenas</td>\n",
       "      <td>17.9583</td>\n",
       "      <td>-102.2000</td>\n",
       "      <td>82.83</td>\n",
       "      <td>82.83</td>\n",
       "      <td>72</td>\n",
       "      <td>3</td>\n",
       "      <td>4.61</td>\n",
       "      <td>MX</td>\n",
       "      <td>1635462965</td>\n",
       "    </tr>\n",
       "    <tr>\n",
       "      <th>2</th>\n",
       "      <td>410</td>\n",
       "      <td>Bosaso</td>\n",
       "      <td>11.2842</td>\n",
       "      <td>49.1816</td>\n",
       "      <td>78.89</td>\n",
       "      <td>78.89</td>\n",
       "      <td>55</td>\n",
       "      <td>0</td>\n",
       "      <td>4.99</td>\n",
       "      <td>SO</td>\n",
       "      <td>1635463187</td>\n",
       "    </tr>\n",
       "    <tr>\n",
       "      <th>3</th>\n",
       "      <td>420</td>\n",
       "      <td>Camargo</td>\n",
       "      <td>27.6667</td>\n",
       "      <td>-105.1667</td>\n",
       "      <td>76.21</td>\n",
       "      <td>76.21</td>\n",
       "      <td>11</td>\n",
       "      <td>0</td>\n",
       "      <td>3.62</td>\n",
       "      <td>MX</td>\n",
       "      <td>1635463039</td>\n",
       "    </tr>\n",
       "    <tr>\n",
       "      <th>4</th>\n",
       "      <td>547</td>\n",
       "      <td>Qandala</td>\n",
       "      <td>11.4720</td>\n",
       "      <td>49.8728</td>\n",
       "      <td>79.70</td>\n",
       "      <td>79.70</td>\n",
       "      <td>53</td>\n",
       "      <td>1</td>\n",
       "      <td>4.83</td>\n",
       "      <td>SO</td>\n",
       "      <td>1635463319</td>\n",
       "    </tr>\n",
       "  </tbody>\n",
       "</table>\n",
       "</div>"
      ],
      "text/plain": [
       "   index             City  Latitude  Longitude  Temperature  Max Temperature  \\\n",
       "0    215    Half Moon Bay   37.4636  -122.4286        75.06            80.78   \n",
       "1    271  Lázaro Cárdenas   17.9583  -102.2000        82.83            82.83   \n",
       "2    410           Bosaso   11.2842    49.1816        78.89            78.89   \n",
       "3    420          Camargo   27.6667  -105.1667        76.21            76.21   \n",
       "4    547          Qandala   11.4720    49.8728        79.70            79.70   \n",
       "\n",
       "   Humidity  Cloudiness  Wind Country        Date  \n",
       "0        54           1  3.00      US  1635463018  \n",
       "1        72           3  4.61      MX  1635462965  \n",
       "2        55           0  4.99      SO  1635463187  \n",
       "3        11           0  3.62      MX  1635463039  \n",
       "4        53           1  4.83      SO  1635463319  "
      ]
     },
     "execution_count": 31,
     "metadata": {},
     "output_type": "execute_result"
    }
   ],
   "source": [
    "city_param=data.loc[(data[\"Temperature\"]<85) & (data[\"Temperature\"]>75) & (data[\"Wind\"]<5) & (data[\"Cloudiness\"]<5)]\n",
    "city_param=city_param.dropna(how='any')\n",
    "city_param.reset_index(inplace=True)\n",
    "city_param\n"
   ]
  },
  {
   "cell_type": "markdown",
   "metadata": {},
   "source": [
    "### Hotel Map\n",
    "* Store into variable named `hotel_df`.\n",
    "* Add a \"Hotel Name\" column to the DataFrame.\n",
    "* Set parameters to search for hotels with 5000 meters.\n",
    "* Hit the Google Places API for each city's coordinates.\n",
    "* Store the first Hotel result into the DataFrame.\n",
    "* Plot markers on top of the heatmap."
   ]
  },
  {
   "cell_type": "code",
   "execution_count": 35,
   "metadata": {},
   "outputs": [
    {
     "data": {
      "text/html": [
       "<div>\n",
       "<style scoped>\n",
       "    .dataframe tbody tr th:only-of-type {\n",
       "        vertical-align: middle;\n",
       "    }\n",
       "\n",
       "    .dataframe tbody tr th {\n",
       "        vertical-align: top;\n",
       "    }\n",
       "\n",
       "    .dataframe thead th {\n",
       "        text-align: right;\n",
       "    }\n",
       "</style>\n",
       "<table border=\"1\" class=\"dataframe\">\n",
       "  <thead>\n",
       "    <tr style=\"text-align: right;\">\n",
       "      <th></th>\n",
       "      <th>City</th>\n",
       "      <th>Country</th>\n",
       "      <th>Latitude</th>\n",
       "      <th>Longitude</th>\n",
       "      <th>Hotel Name</th>\n",
       "    </tr>\n",
       "  </thead>\n",
       "  <tbody>\n",
       "    <tr>\n",
       "      <th>0</th>\n",
       "      <td>Half Moon Bay</td>\n",
       "      <td>US</td>\n",
       "      <td>37.4636</td>\n",
       "      <td>-122.4286</td>\n",
       "      <td></td>\n",
       "    </tr>\n",
       "    <tr>\n",
       "      <th>1</th>\n",
       "      <td>Lázaro Cárdenas</td>\n",
       "      <td>MX</td>\n",
       "      <td>17.9583</td>\n",
       "      <td>-102.2000</td>\n",
       "      <td></td>\n",
       "    </tr>\n",
       "    <tr>\n",
       "      <th>2</th>\n",
       "      <td>Bosaso</td>\n",
       "      <td>SO</td>\n",
       "      <td>11.2842</td>\n",
       "      <td>49.1816</td>\n",
       "      <td></td>\n",
       "    </tr>\n",
       "    <tr>\n",
       "      <th>3</th>\n",
       "      <td>Camargo</td>\n",
       "      <td>MX</td>\n",
       "      <td>27.6667</td>\n",
       "      <td>-105.1667</td>\n",
       "      <td></td>\n",
       "    </tr>\n",
       "    <tr>\n",
       "      <th>4</th>\n",
       "      <td>Qandala</td>\n",
       "      <td>SO</td>\n",
       "      <td>11.4720</td>\n",
       "      <td>49.8728</td>\n",
       "      <td></td>\n",
       "    </tr>\n",
       "  </tbody>\n",
       "</table>\n",
       "</div>"
      ],
      "text/plain": [
       "              City Country  Latitude  Longitude Hotel Name\n",
       "0    Half Moon Bay      US   37.4636  -122.4286           \n",
       "1  Lázaro Cárdenas      MX   17.9583  -102.2000           \n",
       "2           Bosaso      SO   11.2842    49.1816           \n",
       "3          Camargo      MX   27.6667  -105.1667           \n",
       "4          Qandala      SO   11.4720    49.8728           "
      ]
     },
     "execution_count": 35,
     "metadata": {},
     "output_type": "execute_result"
    }
   ],
   "source": [
    "hotel = city_param.loc[:,[\"City\",\"Country\",\"Latitude\",\"Longitude\"]]\n",
    "\n",
    "hotel[\"Hotel Name\"] = \"\"\n",
    "\n",
    "hotel.head()"
   ]
  },
  {
   "cell_type": "code",
   "execution_count": 37,
   "metadata": {},
   "outputs": [],
   "source": [
    "url = \"https://maps.googleapis.com/maps/api/place/nearbysearch/json\""
   ]
  },
  {
   "cell_type": "code",
   "execution_count": 38,
   "metadata": {},
   "outputs": [],
   "source": [
    "params = {\"type\" : \"hotel\",\n",
    "          \"keyword\" : \"hotel\",\n",
    "          \"radius\" : 5000,\n",
    "          \"key\" : g_key}"
   ]
  },
  {
   "cell_type": "code",
   "execution_count": 50,
   "metadata": {},
   "outputs": [
    {
     "name": "stdout",
     "output_type": "stream",
     "text": [
      "Retrieving Results for Index 0: Half Moon Bay.\n",
      "Hotel in Half Moon Bay is Oceano Hotel & Spa Half Moon Bay Harbor.\n",
      "Retrieving Results for Index 1: Lázaro Cárdenas.\n",
      "Hotel in Lázaro Cárdenas is Hotel Porto.\n",
      "Retrieving Results for Index 2: Bosaso.\n",
      "Hotel in Bosaso is Hogato Hotel.\n",
      "Retrieving Results for Index 3: Camargo.\n",
      "Hotel in Camargo is Hotel Santa Fe.\n",
      "Retrieving Results for Index 4: Qandala.\n",
      "None\n",
      "End\n"
     ]
    }
   ],
   "source": [
    "for index, x in hotel.iterrows():\n",
    "    lat = x[\"Latitude\"]\n",
    "    lng = x[\"Longitude\"]\n",
    "    city_name = x[\"City\"]\n",
    "    \n",
    "    params[\"location\"] = f\"{lat},{lng}\"\n",
    "\n",
    "    print(f\"Retrieving Results for Index {index}: {city_name}.\")\n",
    "    response = requests.get(url, params=params).json()\n",
    "    \n",
    "    results = response['results']\n",
    "    \n",
    "    try:\n",
    "        print(f\"Hotel in {city_name} is {results[0]['name']}.\")\n",
    "        hotel.loc[index, \"Hotel Name\"] = results[0]['name']\n",
    "\n",
    "    except (KeyError, IndexError):\n",
    "        print(\"None\")\n",
    "        \n",
    "   \n",
    "print(\"End\")"
   ]
  },
  {
   "cell_type": "code",
   "execution_count": 53,
   "metadata": {},
   "outputs": [
    {
     "data": {
      "text/html": [
       "<div>\n",
       "<style scoped>\n",
       "    .dataframe tbody tr th:only-of-type {\n",
       "        vertical-align: middle;\n",
       "    }\n",
       "\n",
       "    .dataframe tbody tr th {\n",
       "        vertical-align: top;\n",
       "    }\n",
       "\n",
       "    .dataframe thead th {\n",
       "        text-align: right;\n",
       "    }\n",
       "</style>\n",
       "<table border=\"1\" class=\"dataframe\">\n",
       "  <thead>\n",
       "    <tr style=\"text-align: right;\">\n",
       "      <th></th>\n",
       "      <th>City</th>\n",
       "      <th>Country</th>\n",
       "      <th>Latitude</th>\n",
       "      <th>Longitude</th>\n",
       "      <th>Hotel Name</th>\n",
       "    </tr>\n",
       "  </thead>\n",
       "  <tbody>\n",
       "    <tr>\n",
       "      <th>0</th>\n",
       "      <td>Half Moon Bay</td>\n",
       "      <td>US</td>\n",
       "      <td>37.4636</td>\n",
       "      <td>-122.4286</td>\n",
       "      <td>Oceano Hotel &amp; Spa Half Moon Bay Harbor</td>\n",
       "    </tr>\n",
       "    <tr>\n",
       "      <th>1</th>\n",
       "      <td>Lázaro Cárdenas</td>\n",
       "      <td>MX</td>\n",
       "      <td>17.9583</td>\n",
       "      <td>-102.2000</td>\n",
       "      <td>Hotel Porto</td>\n",
       "    </tr>\n",
       "    <tr>\n",
       "      <th>2</th>\n",
       "      <td>Bosaso</td>\n",
       "      <td>SO</td>\n",
       "      <td>11.2842</td>\n",
       "      <td>49.1816</td>\n",
       "      <td>Hogato Hotel</td>\n",
       "    </tr>\n",
       "    <tr>\n",
       "      <th>3</th>\n",
       "      <td>Camargo</td>\n",
       "      <td>MX</td>\n",
       "      <td>27.6667</td>\n",
       "      <td>-105.1667</td>\n",
       "      <td>Hotel Santa Fe</td>\n",
       "    </tr>\n",
       "    <tr>\n",
       "      <th>4</th>\n",
       "      <td>Qandala</td>\n",
       "      <td>SO</td>\n",
       "      <td>11.4720</td>\n",
       "      <td>49.8728</td>\n",
       "      <td></td>\n",
       "    </tr>\n",
       "  </tbody>\n",
       "</table>\n",
       "</div>"
      ],
      "text/plain": [
       "              City Country  Latitude  Longitude  \\\n",
       "0    Half Moon Bay      US   37.4636  -122.4286   \n",
       "1  Lázaro Cárdenas      MX   17.9583  -102.2000   \n",
       "2           Bosaso      SO   11.2842    49.1816   \n",
       "3          Camargo      MX   27.6667  -105.1667   \n",
       "4          Qandala      SO   11.4720    49.8728   \n",
       "\n",
       "                                Hotel Name  \n",
       "0  Oceano Hotel & Spa Half Moon Bay Harbor  \n",
       "1                              Hotel Porto  \n",
       "2                             Hogato Hotel  \n",
       "3                           Hotel Santa Fe  \n",
       "4                                           "
      ]
     },
     "execution_count": 53,
     "metadata": {},
     "output_type": "execute_result"
    }
   ],
   "source": [
    "hotel = hotel.dropna(how='any')\n",
    "hotel.head()"
   ]
  },
  {
   "cell_type": "code",
   "execution_count": 57,
   "metadata": {},
   "outputs": [],
   "source": [
    "# NOTE: Do not change any of the code in this cell\n",
    "\n",
    "# Using the template add the hotel marks to the heatmap\n",
    "info_box_template = \"\"\"\n",
    "<dl>\n",
    "<dt>Name</dt><dd>{Hotel Name}</dd>\n",
    "<dt>City</dt><dd>{City}</dd>\n",
    "<dt>Country</dt><dd>{Country}</dd>\n",
    "</dl>\n",
    "\"\"\"\n",
    "# Store the DataFrame Row\n",
    "# NOTE: be sure to update with your DataFrame name\n",
    "hotel_info = [info_box_template.format(**row) for index, row in hotel.iterrows()]\n",
    "locations = hotel[[\"Latitude\", \"Longitude\"]]"
   ]
  },
  {
   "cell_type": "code",
   "execution_count": 59,
   "metadata": {},
   "outputs": [
    {
     "data": {
      "application/vnd.jupyter.widget-view+json": {
       "model_id": "a0d83d9742af42779fc47ee20749b476",
       "version_major": 2,
       "version_minor": 0
      },
      "text/plain": [
       "Figure(layout=FigureLayout(height='420px'))"
      ]
     },
     "metadata": {},
     "output_type": "display_data"
    }
   ],
   "source": [
    "# Add marker layer ontop of heat map\n",
    "indicator = gmaps.marker_layer(locations,info_box_content=hotel_info)\n",
    "\n",
    "# Display figure\n",
    "maps.add_layer(indicator)\n",
    "maps"
   ]
  },
  {
   "cell_type": "code",
   "execution_count": null,
   "metadata": {},
   "outputs": [],
   "source": []
  }
 ],
 "metadata": {
  "kernelspec": {
   "display_name": "Python 3",
   "language": "python",
   "name": "python3"
  },
  "language_info": {
   "codemirror_mode": {
    "name": "ipython",
    "version": 3
   },
   "file_extension": ".py",
   "mimetype": "text/x-python",
   "name": "python",
   "nbconvert_exporter": "python",
   "pygments_lexer": "ipython3",
   "version": "3.8.8"
  },
  "latex_envs": {
   "LaTeX_envs_menu_present": true,
   "autoclose": false,
   "autocomplete": true,
   "bibliofile": "biblio.bib",
   "cite_by": "apalike",
   "current_citInitial": 1,
   "eqLabelWithNumbers": true,
   "eqNumInitial": 1,
   "hotkeys": {
    "equation": "Ctrl-E",
    "itemize": "Ctrl-I"
   },
   "labels_anchors": false,
   "latex_user_defs": false,
   "report_style_numbering": false,
   "user_envs_cfg": false
  }
 },
 "nbformat": 4,
 "nbformat_minor": 4
}

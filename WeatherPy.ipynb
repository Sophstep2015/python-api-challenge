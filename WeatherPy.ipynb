{
 "cells": [
  {
   "cell_type": "markdown",
   "metadata": {},
   "source": [
    "# WeatherPy\n",
    "----\n",
    "\n",
    "#### Note\n",
    "* Instructions have been included for each segment. You do not have to follow them exactly, but they are included to help you think through the steps."
   ]
  },
  {
   "cell_type": "code",
   "execution_count": 16,
   "metadata": {
    "scrolled": true
   },
   "outputs": [],
   "source": [
    "# Dependencies and Setup\n",
    "import matplotlib.pyplot as plt\n",
    "import pandas as pd\n",
    "import numpy as np\n",
    "import requests\n",
    "import json \n",
    "import time\n",
    "\n",
    "from scipy.stats import linregress\n",
    "\n",
    "# Import API key\n",
    "from api_keys import weather_api_key\n",
    "from citipy import citipy\n",
    "\n",
    "# Output File (CSV)\n",
    "output_data_file = \"output_data/cities.csv\"\n",
    "\n",
    "# Range of latitudes and longitudes\n",
    "lat_range = (-90, 90)\n",
    "lng_range = (-180, 180)"
   ]
  },
  {
   "cell_type": "markdown",
   "metadata": {},
   "source": [
    "## Generate Cities List"
   ]
  },
  {
   "cell_type": "code",
   "execution_count": 17,
   "metadata": {},
   "outputs": [
    {
     "data": {
      "text/plain": [
       "613"
      ]
     },
     "execution_count": 17,
     "metadata": {},
     "output_type": "execute_result"
    }
   ],
   "source": [
    "# List for holding lat_lngs and cities\n",
    "lat_lngs = []\n",
    "cities = []\n",
    "\n",
    "# Create a set of random lat and lng combinations\n",
    "lats = np.random.uniform(lat_range[0], lat_range[1], size=1500)\n",
    "lngs = np.random.uniform(lng_range[0], lng_range[1], size=1500)\n",
    "lat_lngs = zip(lats, lngs)\n",
    "\n",
    "# Identify nearest city for each lat, lng combination\n",
    "for lat_lng in lat_lngs:\n",
    "    city = citipy.nearest_city(lat_lng[0], lat_lng[1]).city_name\n",
    "    \n",
    "    # If the city is unique, then add it to a our cities list\n",
    "    if city not in cities:\n",
    "        cities.append(city)\n",
    "# Print the city count to confirm sufficient count\n",
    "len(cities)"
   ]
  },
  {
   "cell_type": "markdown",
   "metadata": {},
   "source": [
    "### Perform API Calls\n",
    "* Perform a weather check on each city using a series of successive API calls.\n",
    "* Include a print log of each city as it'sbeing processed (with the city number and city name).\n"
   ]
  },
  {
   "cell_type": "code",
   "execution_count": 18,
   "metadata": {
    "scrolled": true
   },
   "outputs": [
    {
     "name": "stdout",
     "output_type": "stream",
     "text": [
      "{\n",
      "    \"cod\": \"404\",\n",
      "    \"message\": \"city not found\"\n",
      "}\n"
     ]
    }
   ],
   "source": [
    "# Get Weather Data\n",
    "#for city in cities:\n",
    "query = \"http://api.openweathermap.org/data/2.5/weather?units=Imperial&APPID=\" + weather_api_key + \"&q=\" + cities[0]\n",
    "response = requests.get(query).json()\n",
    "print(json.dumps(response, indent=4, sort_keys=True))"
   ]
  },
  {
   "cell_type": "code",
   "execution_count": 19,
   "metadata": {},
   "outputs": [
    {
     "name": "stdout",
     "output_type": "stream",
     "text": [
      "Error found will skip\n",
      "kaitangata added\n",
      "pevek added\n",
      "kapit added\n",
      "cascais added\n",
      "den chai added\n",
      "ushuaia added\n",
      "bluff added\n",
      "punta arenas added\n",
      "new norfolk added\n",
      "Error found will skip\n",
      "coquimbo added\n",
      "qaanaaq added\n",
      "Error found will skip\n",
      "butaritari added\n",
      "bredasdorp added\n",
      "lorengau added\n",
      "te anau added\n",
      "kolpashevo added\n",
      "neiafu added\n",
      "stromness added\n",
      "rikitea added\n",
      "vallam added\n",
      "Error found will skip\n",
      "dukat added\n",
      "yellowknife added\n",
      "shunyi added\n",
      "ahuimanu added\n",
      "kamiichi added\n",
      "bethel added\n",
      "dhidhdhoo added\n",
      "tura added\n",
      "roald added\n",
      "maceio added\n",
      "vardo added\n",
      "Error found will skip\n",
      "ponta do sol added\n",
      "vao added\n",
      "atuona added\n",
      "cap malheureux added\n",
      "ahipara added\n",
      "gweta added\n",
      "acajutla added\n",
      "Error found will skip\n",
      "Error found will skip\n",
      "constantine added\n",
      "polyarnyy added\n",
      "haines junction added\n",
      "fortuna added\n",
      "dudinka added\n",
      "hilo added\n",
      "terrace bay added\n",
      "komsomolskiy added\n",
      "sao filipe added\n",
      "pundaguitan added\n",
      "mizdah added\n",
      "sao jose da coroa grande added\n",
      "hwange added\n",
      "castro added\n",
      "anadyr added\n",
      "ostrovnoy added\n",
      "usinsk added\n",
      "Error found will skip\n",
      "albany added\n",
      "Error found will skip\n",
      "katsuura added\n",
      "tuktoyaktuk added\n",
      "cape town added\n",
      "kachiry added\n",
      "srednekolymsk added\n",
      "avarua added\n",
      "alma added\n",
      "jamestown added\n",
      "georgetown added\n",
      "Error found will skip\n",
      "Error found will skip\n",
      "kampot added\n",
      "sitka added\n",
      "dehloran added\n",
      "chapais added\n",
      "dikson added\n",
      "kodiak added\n",
      "manado added\n",
      "saint-joseph added\n",
      "hobart added\n",
      "vila franca do campo added\n",
      "Error found will skip\n",
      "nerchinskiy zavod added\n",
      "busselton added\n",
      "mataura added\n",
      "kavieng added\n",
      "barrow added\n",
      "Error found will skip\n",
      "road town added\n",
      "claudio added\n",
      "portland added\n",
      "colesberg added\n",
      "puerto escondido added\n",
      "college added\n",
      "hithadhoo added\n",
      "severo-kurilsk added\n",
      "grand gaube added\n",
      "muros added\n",
      "zlobin added\n",
      "Error found will skip\n",
      "margate added\n",
      "pisco added\n",
      "bondoukou added\n",
      "hami added\n",
      "longyearbyen added\n",
      "saskylakh added\n",
      "saint george added\n",
      "bathsheba added\n",
      "vestmannaeyjar added\n",
      "tabuk added\n",
      "Error found will skip\n",
      "tessalit added\n",
      "launceston added\n",
      "hay river added\n",
      "eyrarbakki added\n",
      "mantua added\n",
      "camacha added\n",
      "carnarvon added\n",
      "rudsar added\n",
      "biak added\n",
      "tabora added\n",
      "saint-augustin added\n",
      "springbok added\n",
      "hermanus added\n",
      "menzelinsk added\n",
      "victor harbor added\n",
      "puerto ayora added\n",
      "mareeba added\n",
      "kahului added\n",
      "sao joao da barra added\n",
      "Error found will skip\n",
      "port-gentil added\n",
      "klaksvik added\n",
      "acapulco added\n",
      "beira added\n",
      "ponta delgada added\n",
      "chokurdakh added\n",
      "spearfish added\n",
      "east london added\n",
      "mongo added\n",
      "Error found will skip\n",
      "agirish added\n",
      "nikolskoye added\n",
      "upernavik added\n",
      "kapaa added\n",
      "Error found will skip\n",
      "Error found will skip\n",
      "dapdap added\n",
      "mahebourg added\n",
      "simao added\n",
      "visby added\n",
      "makakilo city added\n",
      "ribeira grande added\n",
      "tasiilaq added\n",
      "dolores added\n",
      "tevaitoa added\n",
      "Error found will skip\n",
      "saint-francois added\n",
      "churapcha added\n",
      "zhigansk added\n",
      "mar del plata added\n",
      "lisala added\n",
      "nuevo progreso added\n",
      "Error found will skip\n",
      "broken hill added\n",
      "itarema added\n",
      "bol added\n",
      "xining added\n",
      "richards bay added\n",
      "port alfred added\n",
      "praya added\n",
      "Error found will skip\n",
      "osorno added\n",
      "pangody added\n",
      "vaini added\n",
      "arraial do cabo added\n",
      "cabo san lucas added\n",
      "isangel added\n",
      "arti added\n",
      "saint-philippe added\n",
      "vershino-shakhtaminskiy added\n",
      "kudahuvadhoo added\n",
      "venezuela added\n",
      "yangcun added\n",
      "cockburn town added\n",
      "pozo colorado added\n",
      "salinopolis added\n",
      "sungaipenuh added\n",
      "hofn added\n",
      "chifeng added\n",
      "Error found will skip\n",
      "morehead added\n",
      "filingue added\n",
      "asau added\n",
      "plessisville added\n",
      "Error found will skip\n",
      "wanaka added\n",
      "esperance added\n",
      "taree added\n",
      "cherskiy added\n",
      "Error found will skip\n",
      "starkville added\n",
      "calafell added\n",
      "hualmay added\n",
      "denpasar added\n",
      "chisec added\n",
      "port elizabeth added\n",
      "thunder bay added\n",
      "tuatapere added\n",
      "poum added\n",
      "ilulissat added\n",
      "ust-kuyga added\n",
      "khandyga added\n",
      "raudeberg added\n",
      "duluth added\n",
      "yulara added\n",
      "baghmara added\n",
      "zavodskoy added\n",
      "hervey bay added\n",
      "palmerston added\n",
      "petropavlovsk-kamchatskiy added\n",
      "Error found will skip\n",
      "Error found will skip\n",
      "Error found will skip\n",
      "presidente dutra added\n",
      "touros added\n",
      "langarud added\n",
      "praia added\n",
      "narsaq added\n",
      "lavrentiya added\n",
      "bambous virieux added\n",
      "hobyo added\n",
      "cap-aux-meules added\n",
      "axim added\n",
      "finschhafen added\n",
      "cururupu added\n",
      "chuy added\n",
      "luderitz added\n",
      "Error found will skip\n",
      "half moon bay added\n",
      "zuwarah added\n",
      "raga added\n",
      "izumo added\n",
      "beidao added\n",
      "rocha added\n",
      "loxstedt added\n",
      "chippewa falls added\n",
      "ancud added\n",
      "adana added\n",
      "amapa added\n",
      "Error found will skip\n",
      "collie added\n",
      "temerloh added\n",
      "dingle added\n",
      "canico added\n",
      "Error found will skip\n",
      "tazovskiy added\n",
      "koslan added\n",
      "lubao added\n",
      "vangaindrano added\n",
      "yarim added\n",
      "sabha added\n",
      "nanortalik added\n",
      "bayan added\n",
      "rosetta added\n",
      "san cristobal added\n",
      "Error found will skip\n",
      "tomatlan added\n",
      "balikpapan added\n",
      "nome added\n",
      "port hardy added\n",
      "nouna added\n",
      "halifax added\n",
      "boda added\n",
      "hounde added\n",
      "aripuana added\n",
      "padang added\n",
      "warrington added\n",
      "sarangani added\n",
      "chabahar added\n",
      "victoria added\n",
      "adrar added\n",
      "tigil added\n",
      "meulaboh added\n",
      "Error found will skip\n",
      "cidreira added\n",
      "lebu added\n",
      "san carlos de bariloche added\n",
      "rehoboth added\n",
      "saryozek added\n",
      "thompson added\n",
      "dulce nombre de culmi added\n",
      "aswan added\n",
      "beloha added\n",
      "mount pleasant added\n",
      "mehamn added\n",
      "bull savanna added\n",
      "gua musang added\n",
      "xiuyan added\n",
      "Error found will skip\n",
      "lazaro cardenas added\n",
      "skibbereen added\n",
      "sechura added\n",
      "paddhari added\n",
      "vagay added\n",
      "charters towers added\n",
      "khatanga added\n",
      "rapid valley added\n",
      "ironton added\n",
      "melnikovo added\n",
      "nivala added\n",
      "mackenzie added\n",
      "jaroslaw added\n",
      "tigre added\n",
      "nizwa added\n",
      "cabrobo added\n",
      "caravelas added\n",
      "palomares added\n",
      "berdigestyakh added\n",
      "Error found will skip\n",
      "dunedin added\n",
      "najran added\n",
      "san patricio added\n",
      "yumen added\n",
      "lucapa added\n",
      "baykit added\n",
      "terney added\n",
      "faanui added\n",
      "burayevo added\n",
      "Error found will skip\n",
      "Error found will skip\n",
      "durant added\n",
      "tsybuliv added\n",
      "samarai added\n",
      "russell added\n",
      "kruisfontein added\n",
      "coahuayana added\n",
      "havre added\n",
      "provideniya added\n",
      "bikin added\n",
      "turhal added\n",
      "irricana added\n",
      "lompoc added\n",
      "japura added\n",
      "kirkenes added\n",
      "luwuk added\n",
      "cayenne added\n",
      "moundou added\n",
      "lata added\n",
      "alihe added\n",
      "norman wells added\n",
      "calama added\n",
      "nouadhibou added\n",
      "souillac added\n",
      "torbay added\n",
      "Error found will skip\n",
      "nador added\n",
      "williams lake added\n",
      "viedma added\n",
      "sept-iles added\n",
      "palmer added\n",
      "port blair added\n",
      "atar added\n",
      "whyalla added\n",
      "zheleznodorozhnyy added\n",
      "felipe carrillo puerto added\n",
      "tiksi added\n",
      "mount isa added\n",
      "barillas added\n",
      "caucaia added\n",
      "Error found will skip\n",
      "bonfim added\n",
      "bam added\n",
      "labuhan added\n",
      "noumea added\n",
      "mackay added\n",
      "ixtapa added\n",
      "plerin added\n",
      "moree added\n",
      "tsiroanomandidy added\n",
      "nago added\n",
      "statesboro added\n",
      "berlevag added\n",
      "daru added\n",
      "kieta added\n",
      "san lawrenz added\n",
      "broome added\n",
      "oktyabrskiy added\n",
      "kismayo added\n",
      "Error found will skip\n",
      "khasan added\n",
      "dundwaraganj added\n",
      "ronda added\n",
      "canton added\n",
      "utiel added\n",
      "qaqortoq added\n",
      "gambela added\n",
      "akyab added\n",
      "leningradskiy added\n",
      "beringovskiy added\n",
      "benicarlo added\n",
      "antalaha added\n",
      "cheyenne added\n",
      "toora-khem added\n",
      "port lincoln added\n",
      "airai added\n",
      "porbandar added\n",
      "altay added\n",
      "mao added\n",
      "Error found will skip\n",
      "lagoa added\n",
      "kuala terengganu added\n",
      "maniitsoq added\n",
      "Error found will skip\n",
      "san francisco added\n",
      "arman added\n",
      "shinyanga added\n",
      "belyy yar added\n",
      "revelstoke added\n",
      "sompeta added\n",
      "eugene added\n",
      "havre-saint-pierre added\n",
      "aquidauana added\n",
      "wanning added\n",
      "san jose added\n",
      "kattivakkam added\n",
      "turukhansk added\n",
      "waipawa added\n",
      "sangar added\n",
      "nalut added\n",
      "paamiut added\n",
      "ambilobe added\n",
      "avera added\n",
      "port macquarie added\n",
      "richmond added\n",
      "lukulu added\n",
      "cooma added\n",
      "asbestos added\n",
      "beipiao added\n",
      "iracoubo added\n",
      "laela added\n",
      "owando added\n",
      "kinango added\n",
      "batemans bay added\n",
      "darhan added\n",
      "foumban added\n",
      "talnakh added\n",
      "bosaso added\n",
      "linxi added\n",
      "gat added\n",
      "arras added\n",
      "namibe added\n",
      "port dover added\n",
      "praia da vitoria added\n",
      "nabire added\n",
      "capao bonito added\n",
      "veraval added\n",
      "camargo added\n",
      "bonnyville added\n",
      "melita added\n",
      "severinia added\n",
      "ngunguru added\n",
      "coro added\n",
      "pershotravneve added\n",
      "marzuq added\n",
      "clyde river added\n",
      "constitucion added\n",
      "brae added\n",
      "kontagora added\n",
      "manokwari added\n",
      "north bend added\n",
      "naron added\n",
      "basco added\n",
      "karratha added\n",
      "vila velha added\n",
      "moramanga added\n",
      "maragogi added\n",
      "lubbock added\n",
      "bairiki added\n",
      "esfarayen added\n",
      "humberto de campos added\n",
      "jalingo added\n",
      "mogadishu added\n",
      "port antonio added\n",
      "littleton added\n",
      "alta floresta added\n",
      "tanout added\n",
      "nantucket added\n",
      "pangkalanbuun added\n",
      "huallanca added\n",
      "boundiali added\n",
      "araouane added\n",
      "mineiros added\n",
      "uhlove added\n",
      "kawalu added\n",
      "ugoofaaru added\n",
      "kysyl-syr added\n",
      "banda aceh added\n",
      "coaticook added\n",
      "salalah added\n",
      "slave lake added\n",
      "teofilo otoni added\n",
      "staryy nadym added\n",
      "bloomingdale added\n",
      "qingdao added\n",
      "shaunavon added\n",
      "henties bay added\n",
      "misratah added\n",
      "mayor pablo lagerenza added\n",
      "vostok added\n"
     ]
    },
    {
     "name": "stdout",
     "output_type": "stream",
     "text": [
      "elat added\n",
      "iqaluit added\n",
      "werneck added\n",
      "alyangula added\n",
      "cumberland added\n",
      "waitati added\n",
      "safranbolu added\n",
      "gamboma added\n",
      "bhainsa added\n",
      "Error found will skip\n",
      "vanimo added\n",
      "boca do acre added\n",
      "singkang added\n",
      "saint peter added\n",
      "Error found will skip\n",
      "esmeraldas added\n",
      "samut songkhram added\n",
      "tatawin added\n",
      "kalispell added\n",
      "arys added\n",
      "naryan-mar added\n",
      "santa rosa added\n",
      "naze added\n",
      "nishihara added\n",
      "preobrazheniye added\n",
      "hvide sande added\n",
      "srikakulam added\n",
      "saint-pierre added\n",
      "pyshchug added\n",
      "bucerias added\n",
      "saldanha added\n",
      "opuwo added\n",
      "yar-sale added\n",
      "pangnirtung added\n",
      "mana added\n",
      "baryshivka added\n",
      "san angelo added\n",
      "alekseyevsk added\n",
      "hope added\n",
      "kandrian added\n",
      "ardesen added\n",
      "shingu added\n",
      "harper added\n",
      "khandbari added\n",
      "xuddur added\n",
      "bossangoa added\n",
      "malatya added\n",
      "fairbanks added\n",
      "bengkulu added\n",
      "port augusta added\n",
      "timmins added\n",
      "oneonta added\n",
      "joshimath added\n",
      "bonanza added\n",
      "inirida added\n",
      "zemio added\n",
      "nemuro added\n",
      "mwene-ditu added\n",
      "geraldton added\n",
      "menongue added\n",
      "rafai added\n",
      "ranong added\n",
      "podolinec added\n",
      "faranah added\n",
      "ladario added\n",
      "qingyuan added\n",
      "kirakira added\n",
      "toamasina added\n",
      "longhua added\n",
      "kalmunai added\n",
      "prieska added\n",
      "lima added\n",
      "kyra added\n",
      "thoen added\n",
      "sorong added\n",
      "pimentel added\n",
      "qandala added\n",
      "mandurah added\n",
      "losheim added\n",
      "abu samrah added\n",
      "portage added\n",
      "natal added\n",
      "bonavista added\n",
      "kirksville added\n",
      "Error found will skip\n",
      "nianzishan added\n",
      "Error found will skip\n",
      "bagdarin added\n",
      "bridlington added\n",
      "dambulla added\n",
      "birao added\n",
      "Error found will skip\n",
      "candido mota added\n",
      "alim added\n",
      "bemidji added\n",
      "sinnamary added\n",
      "Error found will skip\n",
      "Error found will skip\n",
      "END\n"
     ]
    }
   ],
   "source": [
    "city = []\n",
    "lat =[]\n",
    "lng = []\n",
    "temp = []\n",
    "temp_max = []\n",
    "hum = []\n",
    "cloud = []\n",
    "wind = []\n",
    "country = []\n",
    "date = []\n",
    "\n",
    "for x in cities:    \n",
    "    try:\n",
    "        query = \"http://api.openweathermap.org/data/2.5/weather?units=Imperial&APPID=\" + weather_api_key + \"&q=\" + x\n",
    "        response = requests.get(query).json()\n",
    "        city.append(response['name'])\n",
    "        lat.append(response['coord']['lat'])\n",
    "        lng.append(response['coord']['lon'])\n",
    "        temp.append(response['main']['temp'])\n",
    "        temp_max.append(response['main']['temp_max'])\n",
    "        hum.append(response['main']['humidity'])\n",
    "        cloud.append(response['clouds']['all'])\n",
    "        wind.append(response['wind']['speed'])\n",
    "        country.append(response['sys']['country'])\n",
    "        date.append(response['dt'])\n",
    "        print(x, \"added\") \n",
    "    \n",
    "    except:\n",
    "        print(\"Error found will skip\")\n",
    "    continue\n",
    "        \n",
    "print(\"END\") \n",
    " "
   ]
  },
  {
   "cell_type": "markdown",
   "metadata": {},
   "source": [
    "### Convert Raw Data to DataFrame\n",
    "* Export the city data into a .csv.\n",
    "* Display the DataFrame"
   ]
  },
  {
   "cell_type": "code",
   "execution_count": 32,
   "metadata": {},
   "outputs": [
    {
     "data": {
      "text/html": [
       "<div>\n",
       "<style scoped>\n",
       "    .dataframe tbody tr th:only-of-type {\n",
       "        vertical-align: middle;\n",
       "    }\n",
       "\n",
       "    .dataframe tbody tr th {\n",
       "        vertical-align: top;\n",
       "    }\n",
       "\n",
       "    .dataframe thead th {\n",
       "        text-align: right;\n",
       "    }\n",
       "</style>\n",
       "<table border=\"1\" class=\"dataframe\">\n",
       "  <thead>\n",
       "    <tr style=\"text-align: right;\">\n",
       "      <th></th>\n",
       "      <th>City</th>\n",
       "      <th>Latitude</th>\n",
       "      <th>Longitude</th>\n",
       "      <th>Temperature</th>\n",
       "      <th>Max Temperature</th>\n",
       "      <th>Humidity</th>\n",
       "      <th>Cloudiness</th>\n",
       "      <th>Wind</th>\n",
       "      <th>Country</th>\n",
       "      <th>Date</th>\n",
       "    </tr>\n",
       "  </thead>\n",
       "  <tbody>\n",
       "    <tr>\n",
       "      <th>0</th>\n",
       "      <td>Kaitangata</td>\n",
       "      <td>-46.2817</td>\n",
       "      <td>169.8464</td>\n",
       "      <td>60.62</td>\n",
       "      <td>60.62</td>\n",
       "      <td>69</td>\n",
       "      <td>54</td>\n",
       "      <td>5.19</td>\n",
       "      <td>NZ</td>\n",
       "      <td>1635462802</td>\n",
       "    </tr>\n",
       "    <tr>\n",
       "      <th>1</th>\n",
       "      <td>Pevek</td>\n",
       "      <td>69.7008</td>\n",
       "      <td>170.3133</td>\n",
       "      <td>1.92</td>\n",
       "      <td>1.92</td>\n",
       "      <td>93</td>\n",
       "      <td>100</td>\n",
       "      <td>4.74</td>\n",
       "      <td>RU</td>\n",
       "      <td>1635462803</td>\n",
       "    </tr>\n",
       "    <tr>\n",
       "      <th>2</th>\n",
       "      <td>Kapit</td>\n",
       "      <td>2.0167</td>\n",
       "      <td>112.9333</td>\n",
       "      <td>73.80</td>\n",
       "      <td>73.80</td>\n",
       "      <td>100</td>\n",
       "      <td>100</td>\n",
       "      <td>0.29</td>\n",
       "      <td>MY</td>\n",
       "      <td>1635462805</td>\n",
       "    </tr>\n",
       "    <tr>\n",
       "      <th>3</th>\n",
       "      <td>Cascais</td>\n",
       "      <td>38.6979</td>\n",
       "      <td>-9.4215</td>\n",
       "      <td>65.21</td>\n",
       "      <td>66.51</td>\n",
       "      <td>73</td>\n",
       "      <td>100</td>\n",
       "      <td>3.00</td>\n",
       "      <td>PT</td>\n",
       "      <td>1635462805</td>\n",
       "    </tr>\n",
       "    <tr>\n",
       "      <th>4</th>\n",
       "      <td>Den Chai</td>\n",
       "      <td>17.9837</td>\n",
       "      <td>100.0522</td>\n",
       "      <td>77.61</td>\n",
       "      <td>77.61</td>\n",
       "      <td>95</td>\n",
       "      <td>91</td>\n",
       "      <td>2.53</td>\n",
       "      <td>TH</td>\n",
       "      <td>1635462806</td>\n",
       "    </tr>\n",
       "    <tr>\n",
       "      <th>...</th>\n",
       "      <td>...</td>\n",
       "      <td>...</td>\n",
       "      <td>...</td>\n",
       "      <td>...</td>\n",
       "      <td>...</td>\n",
       "      <td>...</td>\n",
       "      <td>...</td>\n",
       "      <td>...</td>\n",
       "      <td>...</td>\n",
       "      <td>...</td>\n",
       "    </tr>\n",
       "    <tr>\n",
       "      <th>559</th>\n",
       "      <td>Birao</td>\n",
       "      <td>10.2849</td>\n",
       "      <td>22.7882</td>\n",
       "      <td>77.11</td>\n",
       "      <td>77.11</td>\n",
       "      <td>36</td>\n",
       "      <td>60</td>\n",
       "      <td>3.00</td>\n",
       "      <td>CF</td>\n",
       "      <td>1635463328</td>\n",
       "    </tr>\n",
       "    <tr>\n",
       "      <th>560</th>\n",
       "      <td>Cândido Mota</td>\n",
       "      <td>-22.7464</td>\n",
       "      <td>-50.3869</td>\n",
       "      <td>71.85</td>\n",
       "      <td>71.85</td>\n",
       "      <td>83</td>\n",
       "      <td>78</td>\n",
       "      <td>13.47</td>\n",
       "      <td>BR</td>\n",
       "      <td>1635463329</td>\n",
       "    </tr>\n",
       "    <tr>\n",
       "      <th>561</th>\n",
       "      <td>Alim</td>\n",
       "      <td>9.5649</td>\n",
       "      <td>122.4876</td>\n",
       "      <td>79.86</td>\n",
       "      <td>79.86</td>\n",
       "      <td>82</td>\n",
       "      <td>26</td>\n",
       "      <td>5.10</td>\n",
       "      <td>PH</td>\n",
       "      <td>1635463330</td>\n",
       "    </tr>\n",
       "    <tr>\n",
       "      <th>562</th>\n",
       "      <td>Bemidji</td>\n",
       "      <td>47.4736</td>\n",
       "      <td>-94.8803</td>\n",
       "      <td>47.37</td>\n",
       "      <td>50.05</td>\n",
       "      <td>93</td>\n",
       "      <td>40</td>\n",
       "      <td>10.36</td>\n",
       "      <td>US</td>\n",
       "      <td>1635463330</td>\n",
       "    </tr>\n",
       "    <tr>\n",
       "      <th>563</th>\n",
       "      <td>Sinnamary</td>\n",
       "      <td>5.3833</td>\n",
       "      <td>-52.9500</td>\n",
       "      <td>78.84</td>\n",
       "      <td>78.84</td>\n",
       "      <td>86</td>\n",
       "      <td>100</td>\n",
       "      <td>8.66</td>\n",
       "      <td>GF</td>\n",
       "      <td>1635463331</td>\n",
       "    </tr>\n",
       "  </tbody>\n",
       "</table>\n",
       "<p>564 rows × 10 columns</p>\n",
       "</div>"
      ],
      "text/plain": [
       "             City  Latitude  Longitude  Temperature  Max Temperature  \\\n",
       "0      Kaitangata  -46.2817   169.8464        60.62            60.62   \n",
       "1           Pevek   69.7008   170.3133         1.92             1.92   \n",
       "2           Kapit    2.0167   112.9333        73.80            73.80   \n",
       "3         Cascais   38.6979    -9.4215        65.21            66.51   \n",
       "4        Den Chai   17.9837   100.0522        77.61            77.61   \n",
       "..            ...       ...        ...          ...              ...   \n",
       "559         Birao   10.2849    22.7882        77.11            77.11   \n",
       "560  Cândido Mota  -22.7464   -50.3869        71.85            71.85   \n",
       "561          Alim    9.5649   122.4876        79.86            79.86   \n",
       "562       Bemidji   47.4736   -94.8803        47.37            50.05   \n",
       "563     Sinnamary    5.3833   -52.9500        78.84            78.84   \n",
       "\n",
       "     Humidity  Cloudiness   Wind Country        Date  \n",
       "0          69          54   5.19      NZ  1635462802  \n",
       "1          93         100   4.74      RU  1635462803  \n",
       "2         100         100   0.29      MY  1635462805  \n",
       "3          73         100   3.00      PT  1635462805  \n",
       "4          95          91   2.53      TH  1635462806  \n",
       "..        ...         ...    ...     ...         ...  \n",
       "559        36          60   3.00      CF  1635463328  \n",
       "560        83          78  13.47      BR  1635463329  \n",
       "561        82          26   5.10      PH  1635463330  \n",
       "562        93          40  10.36      US  1635463330  \n",
       "563        86         100   8.66      GF  1635463331  \n",
       "\n",
       "[564 rows x 10 columns]"
      ]
     },
     "execution_count": 32,
     "metadata": {},
     "output_type": "execute_result"
    }
   ],
   "source": [
    "weather = pd.DataFrame({\"City\" : city, \"Latitude\" : lat, \"Longitude\" : lng, \"Temperature\" : temp, \"Max Temperature\" : temp_max, \"Humidity\" : hum,\"Cloudiness\" : cloud,\"Wind\": wind, \"Country\": country, \"Date\" : date})\n",
    "weather"
   ]
  },
  {
   "cell_type": "code",
   "execution_count": 33,
   "metadata": {},
   "outputs": [],
   "source": [
    "weather.to_csv(\"city_weather_data.csv\", encoding=\"utf-8\", index=False)"
   ]
  },
  {
   "cell_type": "markdown",
   "metadata": {},
   "source": [
    "## Inspect the data and remove the cities where the humidity > 100%.\n",
    "----\n",
    "Skip this step if there are no cities that have humidity > 100%. "
   ]
  },
  {
   "cell_type": "code",
   "execution_count": 22,
   "metadata": {},
   "outputs": [],
   "source": [
    "#  Get the indices of cities that have humidity over 100%.\n",
    "# Make a new DataFrame equal to the city data to drop all humidity outliers by index.\n",
    "# Passing \"inplace=False\" will make a copy of the city_data DataFrame, which we call \"clean_city_data\".\n"
   ]
  },
  {
   "cell_type": "code",
   "execution_count": null,
   "metadata": {},
   "outputs": [],
   "source": [
    "\n"
   ]
  },
  {
   "cell_type": "markdown",
   "metadata": {},
   "source": [
    "## Plotting the Data\n",
    "* Use proper labeling of the plots using plot titles (including date of analysis) and axes labels.\n",
    "* Save the plotted figures as .pngs."
   ]
  },
  {
   "cell_type": "markdown",
   "metadata": {},
   "source": [
    "## Latitude vs. Temperature Plot"
   ]
  },
  {
   "cell_type": "code",
   "execution_count": 34,
   "metadata": {
    "scrolled": true
   },
   "outputs": [
    {
     "data": {
      "text/plain": [
       "Text(0.5, 0, 'Latitude')"
      ]
     },
     "execution_count": 34,
     "metadata": {},
     "output_type": "execute_result"
    },
    {
     "data": {
      "image/png": "[encoded data removed]",
      "text/plain": [
       "<Figure size 432x288 with 1 Axes>"
      ]
     },
     "metadata": {
      "needs_background": "light"
     },
     "output_type": "display_data"
    }
   ],
   "source": [
    "# Generate a scatter plot of Latitude vs. Temperature Plot\n",
    "\n",
    "#x values\n",
    "Latitude = weather['Latitude']\n",
    "\n",
    "#y values\n",
    "Temp = weather['Temperature']\n",
    "\n",
    "#Establish Scatter Plot\n",
    "plt.scatter(Latitude, Temp)\n",
    "\n",
    "#Chart Formating \n",
    "plt.title(\"Latitude vs. Tempurature\")\n",
    "plt.ylabel(\"Tempurature\")\n",
    "plt.xlabel(\"Latitude\")"
   ]
  },
  {
   "cell_type": "markdown",
   "metadata": {},
   "source": [
    "## Latitude vs. Humidity Plot"
   ]
  },
  {
   "cell_type": "code",
   "execution_count": 35,
   "metadata": {},
   "outputs": [
    {
     "data": {
      "text/plain": [
       "Text(0.5, 0, 'Latitude')"
      ]
     },
     "execution_count": 35,
     "metadata": {},
     "output_type": "execute_result"
    },
    {
     "data": {
      "image/png": "[encoded data removed]",
      "text/plain": [
       "<Figure size 432x288 with 1 Axes>"
      ]
     },
     "metadata": {
      "needs_background": "light"
     },
     "output_type": "display_data"
    }
   ],
   "source": [
    "# Generate a scatter plot of Latitude vs. Temperature Plot\n",
    "\n",
    "#x values\n",
    "Latitude = weather['Latitude']\n",
    "\n",
    "#y values\n",
    "humidity = weather['Humidity']\n",
    "\n",
    "#Establish Scatter Plot\n",
    "plt.scatter(Latitude, humidity)\n",
    "\n",
    "#Chart Formating \n",
    "plt.title(\"Latitude vs. Humidity\")\n",
    "plt.ylabel(\"Humidity\")\n",
    "plt.xlabel(\"Latitude\")"
   ]
  },
  {
   "cell_type": "markdown",
   "metadata": {},
   "source": [
    "## Latitude vs. Cloudiness Plot"
   ]
  },
  {
   "cell_type": "code",
   "execution_count": 36,
   "metadata": {},
   "outputs": [
    {
     "data": {
      "text/plain": [
       "Text(0.5, 0, 'Latitude')"
      ]
     },
     "execution_count": 36,
     "metadata": {},
     "output_type": "execute_result"
    },
    {
     "data": {
      "image/png": "[encoded data removed]",
      "text/plain": [
       "<Figure size 432x288 with 1 Axes>"
      ]
     },
     "metadata": {
      "needs_background": "light"
     },
     "output_type": "display_data"
    }
   ],
   "source": [
    "#x values\n",
    "Latitude = weather['Latitude']\n",
    "\n",
    "#y values\n",
    "Cloud = weather['Cloudiness']\n",
    "\n",
    "#Establish Scatter Plot\n",
    "plt.scatter(Latitude, Cloud)\n",
    "\n",
    "#Chart Formating \n",
    "plt.title(\"Latitude vs. Cloudiness\")\n",
    "plt.ylabel(\"Cloudiness\")\n",
    "plt.xlabel(\"Latitude\")"
   ]
  },
  {
   "cell_type": "markdown",
   "metadata": {},
   "source": [
    "## Latitude vs. Wind Speed Plot"
   ]
  },
  {
   "cell_type": "code",
   "execution_count": 37,
   "metadata": {},
   "outputs": [
    {
     "data": {
      "text/plain": [
       "Text(0.5, 0, 'Latitude')"
      ]
     },
     "execution_count": 37,
     "metadata": {},
     "output_type": "execute_result"
    },
    {
     "data": {
      "image/png": "[encoded data removed]",
      "text/plain": [
       "<Figure size 432x288 with 1 Axes>"
      ]
     },
     "metadata": {
      "needs_background": "light"
     },
     "output_type": "display_data"
    }
   ],
   "source": [
    "#x values\n",
    "Latitude = weather['Latitude']\n",
    "\n",
    "#y values\n",
    "wind = weather['Wind']\n",
    "\n",
    "#Establish Scatter Plot\n",
    "plt.scatter(Latitude, wind)\n",
    "\n",
    "#Chart Formating \n",
    "plt.title(\"Latitude vs. Wind\")\n",
    "plt.ylabel(\"Wind\")\n",
    "plt.xlabel(\"Latitude\")"
   ]
  },
  {
   "cell_type": "markdown",
   "metadata": {},
   "source": [
    "## Linear Regression"
   ]
  },
  {
   "cell_type": "code",
   "execution_count": 38,
   "metadata": {},
   "outputs": [
    {
     "data": {
      "text/html": [
       "<div>\n",
       "<style scoped>\n",
       "    .dataframe tbody tr th:only-of-type {\n",
       "        vertical-align: middle;\n",
       "    }\n",
       "\n",
       "    .dataframe tbody tr th {\n",
       "        vertical-align: top;\n",
       "    }\n",
       "\n",
       "    .dataframe thead th {\n",
       "        text-align: right;\n",
       "    }\n",
       "</style>\n",
       "<table border=\"1\" class=\"dataframe\">\n",
       "  <thead>\n",
       "    <tr style=\"text-align: right;\">\n",
       "      <th></th>\n",
       "      <th>City</th>\n",
       "      <th>Latitude</th>\n",
       "      <th>Longitude</th>\n",
       "      <th>Temperature</th>\n",
       "      <th>Max Temperature</th>\n",
       "      <th>Humidity</th>\n",
       "      <th>Cloudiness</th>\n",
       "      <th>Wind</th>\n",
       "      <th>Country</th>\n",
       "      <th>Date</th>\n",
       "    </tr>\n",
       "  </thead>\n",
       "  <tbody>\n",
       "    <tr>\n",
       "      <th>1</th>\n",
       "      <td>Pevek</td>\n",
       "      <td>69.7008</td>\n",
       "      <td>170.3133</td>\n",
       "      <td>1.92</td>\n",
       "      <td>1.92</td>\n",
       "      <td>93</td>\n",
       "      <td>100</td>\n",
       "      <td>4.74</td>\n",
       "      <td>RU</td>\n",
       "      <td>1635462803</td>\n",
       "    </tr>\n",
       "    <tr>\n",
       "      <th>2</th>\n",
       "      <td>Kapit</td>\n",
       "      <td>2.0167</td>\n",
       "      <td>112.9333</td>\n",
       "      <td>73.80</td>\n",
       "      <td>73.80</td>\n",
       "      <td>100</td>\n",
       "      <td>100</td>\n",
       "      <td>0.29</td>\n",
       "      <td>MY</td>\n",
       "      <td>1635462805</td>\n",
       "    </tr>\n",
       "    <tr>\n",
       "      <th>3</th>\n",
       "      <td>Cascais</td>\n",
       "      <td>38.6979</td>\n",
       "      <td>-9.4215</td>\n",
       "      <td>65.21</td>\n",
       "      <td>66.51</td>\n",
       "      <td>73</td>\n",
       "      <td>100</td>\n",
       "      <td>3.00</td>\n",
       "      <td>PT</td>\n",
       "      <td>1635462805</td>\n",
       "    </tr>\n",
       "    <tr>\n",
       "      <th>4</th>\n",
       "      <td>Den Chai</td>\n",
       "      <td>17.9837</td>\n",
       "      <td>100.0522</td>\n",
       "      <td>77.61</td>\n",
       "      <td>77.61</td>\n",
       "      <td>95</td>\n",
       "      <td>91</td>\n",
       "      <td>2.53</td>\n",
       "      <td>TH</td>\n",
       "      <td>1635462806</td>\n",
       "    </tr>\n",
       "    <tr>\n",
       "      <th>10</th>\n",
       "      <td>Qaanaaq</td>\n",
       "      <td>77.4840</td>\n",
       "      <td>-69.3632</td>\n",
       "      <td>20.21</td>\n",
       "      <td>20.21</td>\n",
       "      <td>87</td>\n",
       "      <td>98</td>\n",
       "      <td>6.78</td>\n",
       "      <td>GL</td>\n",
       "      <td>1635462812</td>\n",
       "    </tr>\n",
       "    <tr>\n",
       "      <th>...</th>\n",
       "      <td>...</td>\n",
       "      <td>...</td>\n",
       "      <td>...</td>\n",
       "      <td>...</td>\n",
       "      <td>...</td>\n",
       "      <td>...</td>\n",
       "      <td>...</td>\n",
       "      <td>...</td>\n",
       "      <td>...</td>\n",
       "      <td>...</td>\n",
       "    </tr>\n",
       "    <tr>\n",
       "      <th>558</th>\n",
       "      <td>Dambulla</td>\n",
       "      <td>7.8600</td>\n",
       "      <td>80.6517</td>\n",
       "      <td>73.51</td>\n",
       "      <td>73.51</td>\n",
       "      <td>95</td>\n",
       "      <td>100</td>\n",
       "      <td>1.43</td>\n",
       "      <td>LK</td>\n",
       "      <td>1635463327</td>\n",
       "    </tr>\n",
       "    <tr>\n",
       "      <th>559</th>\n",
       "      <td>Birao</td>\n",
       "      <td>10.2849</td>\n",
       "      <td>22.7882</td>\n",
       "      <td>77.11</td>\n",
       "      <td>77.11</td>\n",
       "      <td>36</td>\n",
       "      <td>60</td>\n",
       "      <td>3.00</td>\n",
       "      <td>CF</td>\n",
       "      <td>1635463328</td>\n",
       "    </tr>\n",
       "    <tr>\n",
       "      <th>561</th>\n",
       "      <td>Alim</td>\n",
       "      <td>9.5649</td>\n",
       "      <td>122.4876</td>\n",
       "      <td>79.86</td>\n",
       "      <td>79.86</td>\n",
       "      <td>82</td>\n",
       "      <td>26</td>\n",
       "      <td>5.10</td>\n",
       "      <td>PH</td>\n",
       "      <td>1635463330</td>\n",
       "    </tr>\n",
       "    <tr>\n",
       "      <th>562</th>\n",
       "      <td>Bemidji</td>\n",
       "      <td>47.4736</td>\n",
       "      <td>-94.8803</td>\n",
       "      <td>47.37</td>\n",
       "      <td>50.05</td>\n",
       "      <td>93</td>\n",
       "      <td>40</td>\n",
       "      <td>10.36</td>\n",
       "      <td>US</td>\n",
       "      <td>1635463330</td>\n",
       "    </tr>\n",
       "    <tr>\n",
       "      <th>563</th>\n",
       "      <td>Sinnamary</td>\n",
       "      <td>5.3833</td>\n",
       "      <td>-52.9500</td>\n",
       "      <td>78.84</td>\n",
       "      <td>78.84</td>\n",
       "      <td>86</td>\n",
       "      <td>100</td>\n",
       "      <td>8.66</td>\n",
       "      <td>GF</td>\n",
       "      <td>1635463331</td>\n",
       "    </tr>\n",
       "  </tbody>\n",
       "</table>\n",
       "<p>388 rows × 10 columns</p>\n",
       "</div>"
      ],
      "text/plain": [
       "          City  Latitude  Longitude  Temperature  Max Temperature  Humidity  \\\n",
       "1        Pevek   69.7008   170.3133         1.92             1.92        93   \n",
       "2        Kapit    2.0167   112.9333        73.80            73.80       100   \n",
       "3      Cascais   38.6979    -9.4215        65.21            66.51        73   \n",
       "4     Den Chai   17.9837   100.0522        77.61            77.61        95   \n",
       "10     Qaanaaq   77.4840   -69.3632        20.21            20.21        87   \n",
       "..         ...       ...        ...          ...              ...       ...   \n",
       "558   Dambulla    7.8600    80.6517        73.51            73.51        95   \n",
       "559      Birao   10.2849    22.7882        77.11            77.11        36   \n",
       "561       Alim    9.5649   122.4876        79.86            79.86        82   \n",
       "562    Bemidji   47.4736   -94.8803        47.37            50.05        93   \n",
       "563  Sinnamary    5.3833   -52.9500        78.84            78.84        86   \n",
       "\n",
       "     Cloudiness   Wind Country        Date  \n",
       "1           100   4.74      RU  1635462803  \n",
       "2           100   0.29      MY  1635462805  \n",
       "3           100   3.00      PT  1635462805  \n",
       "4            91   2.53      TH  1635462806  \n",
       "10           98   6.78      GL  1635462812  \n",
       "..          ...    ...     ...         ...  \n",
       "558         100   1.43      LK  1635463327  \n",
       "559          60   3.00      CF  1635463328  \n",
       "561          26   5.10      PH  1635463330  \n",
       "562          40  10.36      US  1635463330  \n",
       "563         100   8.66      GF  1635463331  \n",
       "\n",
       "[388 rows x 10 columns]"
      ]
     },
     "execution_count": 38,
     "metadata": {},
     "output_type": "execute_result"
    }
   ],
   "source": [
    "northern_data = weather.loc[weather[\"Latitude\"] >= 0]\n",
    "southern_data = weather.loc[weather[\"Latitude\"] <= 0]\n"
   ]
  },
  {
   "cell_type": "markdown",
   "metadata": {},
   "source": [
    "####  Northern Hemisphere - Max Temp vs. Latitude Linear Regression"
   ]
  },
  {
   "cell_type": "code",
   "execution_count": 90,
   "metadata": {},
   "outputs": [
    {
     "data": {
      "text/plain": [
       "Text(0.5, 0, 'Latitude')"
      ]
     },
     "execution_count": 90,
     "metadata": {},
     "output_type": "execute_result"
    },
    {
     "data": {
      "image/png": "[encoded data removed]",
      "text/plain": [
       "<Figure size 432x288 with 1 Axes>"
      ]
     },
     "metadata": {
      "needs_background": "light"
     },
     "output_type": "display_data"
    }
   ],
   "source": [
    "#x values\n",
    "Latitude = weather['Latitude']\n",
    "\n",
    "#y values\n",
    "m_Temp = weather['Max Temperature']\n",
    "\n",
    "#Establish Scatter Plot\n",
    "plt.scatter(Latitude, m_Temp)\n",
    "\n",
    "(slope, intercept, rvalue, pvalue, std_err) = linregress(Latitude, m_Temp)\n",
    "regress_values = Latitude * slope + intercept\n",
    "line_eq = \"y = \" + str(round(slope,2)) + \"x + \" + str(round(intercept,2))\n",
    "\n",
    "#Chart Formating \n",
    "plt.plot(Latitude ,regress_values,\"r-\")\n",
    "plt.title(\"Latitude vs. Max Tempurature\")\n",
    "plt.annotate(line_eq,(-50,0),fontsize=15,color=\"red\")\n",
    "plt.ylabel(\"Max Tempurature\")\n",
    "plt.xlabel(\"Latitude\")"
   ]
  },
  {
   "cell_type": "markdown",
   "metadata": {},
   "source": [
    "####  Southern Hemisphere - Max Temp vs. Latitude Linear Regression"
   ]
  },
  {
   "cell_type": "code",
   "execution_count": 89,
   "metadata": {},
   "outputs": [
    {
     "data": {
      "text/plain": [
       "Text(0.5, 0, 'Latitude')"
      ]
     },
     "execution_count": 89,
     "metadata": {},
     "output_type": "execute_result"
    },
    {
     "data": {
      "image/png": "[encoded data removed]",
      "text/plain": [
       "<Figure size 432x288 with 1 Axes>"
      ]
     },
     "metadata": {
      "needs_background": "light"
     },
     "output_type": "display_data"
    }
   ],
   "source": [
    "#x values\n",
    "Latitude = southern_data['Latitude']\n",
    "\n",
    "#y values\n",
    "sm_Temp = southern_data['Max Temperature']\n",
    "\n",
    "#Establish Scatter Plot\n",
    "\n",
    "plt.scatter(Latitude, sm_Temp)\n",
    "(slope, intercept, rvalue, pvalue, std_err) = linregress(Latitude, sm_Temp)\n",
    "regress_values = Latitude * slope + intercept\n",
    "line_eq = \"y = \" + str(round(slope,2)) + \"x + \" + str(round(intercept,2))\n",
    "\n",
    "#Chart Formating \n",
    "plt.plot(Latitude ,regress_values,\"r-\")\n",
    "plt.title(\"Latitude vs. Max Tempurature\")\n",
    "plt.annotate(line_eq,(-50,85),fontsize=15,color=\"red\")\n",
    "plt.ylabel(\"Max Tempurature\")\n",
    "plt.xlabel(\"Latitude\")"
   ]
  },
  {
   "cell_type": "markdown",
   "metadata": {},
   "source": [
    "####  Northern Hemisphere - Humidity (%) vs. Latitude Linear Regression"
   ]
  },
  {
   "cell_type": "code",
   "execution_count": 86,
   "metadata": {},
   "outputs": [
    {
     "data": {
      "text/plain": [
       "Text(0.5, 0, 'Latitude')"
      ]
     },
     "execution_count": 86,
     "metadata": {},
     "output_type": "execute_result"
    },
    {
     "data": {
      "image/png": "[encoded data removed]",
      "text/plain": [
       "<Figure size 432x288 with 1 Axes>"
      ]
     },
     "metadata": {
      "needs_background": "light"
     },
     "output_type": "display_data"
    }
   ],
   "source": [
    "#x values\n",
    "Latitude = northern_data['Latitude']\n",
    "\n",
    "#y values\n",
    "humidity = northern_data['Humidity']\n",
    "\n",
    "#Establish Scatter Plot\n",
    "plt.scatter(Latitude, humidity)\n",
    "(slope, intercept, rvalue, pvalue, std_err) = linregress(Latitude, humidity)\n",
    "regress_values = Latitude * slope + intercept\n",
    "line_eq = \"y = \" + str(round(slope,2)) + \"x + \" + str(round(intercept,2))\n",
    "\n",
    "#Chart Formating \n",
    "plt.plot(Latitude ,regress_values,\"r-\")\n",
    "plt.title(\"Latitude vs. Humidity\")\n",
    "plt.annotate(line_eq,(40,20),fontsize=15,color=\"red\")\n",
    "plt.ylabel(\"Humidity\")\n",
    "plt.xlabel(\"Latitude\")"
   ]
  },
  {
   "cell_type": "markdown",
   "metadata": {},
   "source": [
    "####  Southern Hemisphere - Humidity (%) vs. Latitude Linear Regression"
   ]
  },
  {
   "cell_type": "code",
   "execution_count": 84,
   "metadata": {},
   "outputs": [
    {
     "data": {
      "text/plain": [
       "Text(0.5, 0, 'Latitude')"
      ]
     },
     "execution_count": 84,
     "metadata": {},
     "output_type": "execute_result"
    },
    {
     "data": {
      "image/png": "[encoded data removed]",
      "text/plain": [
       "<Figure size 432x288 with 1 Axes>"
      ]
     },
     "metadata": {
      "needs_background": "light"
     },
     "output_type": "display_data"
    }
   ],
   "source": [
    "#x values\n",
    "Latitude = southern_data['Latitude']\n",
    "\n",
    "#y values\n",
    "humidity = southern_data['Humidity']\n",
    "\n",
    "#Establish Scatter Plot\n",
    "plt.scatter(Latitude, humidity)\n",
    "\n",
    "\n",
    "(slope, intercept, rvalue, pvalue, std_err) = linregress(Latitude, humidity)\n",
    "regress_values = Latitude * slope + intercept\n",
    "line_eq = \"y = \" + str(round(slope,2)) + \"x + \" + str(round(intercept,2))\n",
    "\n",
    "#Chart Formating \n",
    "plt.plot(Latitude ,regress_values,\"r-\")\n",
    "plt.title(\"Latitude vs. Humidity\")\n",
    "plt.annotate(line_eq,(-50,20),fontsize=15,color=\"red\")\n",
    "plt.ylabel(\"Humidity\")\n",
    "plt.xlabel(\"Latitude\")"
   ]
  },
  {
   "cell_type": "markdown",
   "metadata": {},
   "source": [
    "####  Northern Hemisphere - Cloudiness (%) vs. Latitude Linear Regression"
   ]
  },
  {
   "cell_type": "code",
   "execution_count": 74,
   "metadata": {},
   "outputs": [
    {
     "data": {
      "text/plain": [
       "Text(0.5, 0, 'Latitude')"
      ]
     },
     "execution_count": 74,
     "metadata": {},
     "output_type": "execute_result"
    },
    {
     "data": {
      "image/png": "[encoded data removed]",
      "text/plain": [
       "<Figure size 432x288 with 1 Axes>"
      ]
     },
     "metadata": {
      "needs_background": "light"
     },
     "output_type": "display_data"
    }
   ],
   "source": [
    "#x values\n",
    "Latitude = northern_data['Latitude']\n",
    "\n",
    "#y values\n",
    "Cloud = northern_data['Cloudiness']\n",
    "\n",
    "#Establish Scatter Plot\n",
    "plt.scatter(Latitude, Cloud)\n",
    "\n",
    "(slope, intercept, rvalue, pvalue, std_err) = linregress(Latitude, Cloud)\n",
    "regress_values = Latitude * slope + intercept\n",
    "line_eq = \"y = \" + str(round(slope,2)) + \"x + \" + str(round(intercept,2))\n",
    "\n",
    "#Chart Formating \n",
    "plt.plot(Latitude ,regress_values,\"r-\")\n",
    "plt.title(\"Latitude vs. Cloudiness\")\n",
    "plt.annotate(line_eq,(45,50),fontsize=15,color=\"red\")\n",
    "plt.ylabel(\"Cloudiness\")\n",
    "plt.xlabel(\"Latitude\")"
   ]
  },
  {
   "cell_type": "markdown",
   "metadata": {},
   "source": [
    "####  Southern Hemisphere - Cloudiness (%) vs. Latitude Linear Regression"
   ]
  },
  {
   "cell_type": "code",
   "execution_count": 69,
   "metadata": {},
   "outputs": [
    {
     "data": {
      "text/plain": [
       "Text(0.5, 0, 'Latitude')"
      ]
     },
     "execution_count": 69,
     "metadata": {},
     "output_type": "execute_result"
    },
    {
     "data": {
      "image/png": "[encoded data removed]",
      "text/plain": [
       "<Figure size 432x288 with 1 Axes>"
      ]
     },
     "metadata": {
      "needs_background": "light"
     },
     "output_type": "display_data"
    }
   ],
   "source": [
    "#x values\n",
    "Latitude = southern_data['Latitude']\n",
    "\n",
    "#y values\n",
    "Cloud = southern_data['Cloudiness']\n",
    "\n",
    "#Establish Scatter Plot\n",
    "plt.scatter(Latitude, Cloud)\n",
    "\n",
    "(slope, intercept, rvalue, pvalue, std_err) = linregress(Latitude, Cloud)\n",
    "regress_values = Latitude * slope + intercept\n",
    "line_eq = \"y = \" + str(round(slope,2)) + \"x + \" + str(round(intercept,2))\n",
    "\n",
    "#Chart Formating \n",
    "plt.plot(Latitude ,regress_values,\"r-\")\n",
    "plt.title(\"Latitude vs. Cloudiness\")\n",
    "plt.annotate(line_eq,(-50,60),fontsize=15,color=\"red\")\n",
    "plt.ylabel(\"Cloudiness\")\n",
    "plt.xlabel(\"Latitude\")"
   ]
  },
  {
   "cell_type": "markdown",
   "metadata": {},
   "source": [
    "####  Northern Hemisphere - Wind Speed (mph) vs. Latitude Linear Regression"
   ]
  },
  {
   "cell_type": "code",
   "execution_count": 77,
   "metadata": {},
   "outputs": [
    {
     "data": {
      "text/plain": [
       "Text(0.5, 0, 'Latitude')"
      ]
     },
     "execution_count": 77,
     "metadata": {},
     "output_type": "execute_result"
    },
    {
     "data": {
      "image/png": "[encoded data removed]",
      "text/plain": [
       "<Figure size 432x288 with 1 Axes>"
      ]
     },
     "metadata": {
      "needs_background": "light"
     },
     "output_type": "display_data"
    }
   ],
   "source": [
    "#x values\n",
    "Latitude = northern_data['Latitude']\n",
    "\n",
    "#y values\n",
    "wind = northern_data['Wind']\n",
    "\n",
    "#Establish Scatter Plot\n",
    "plt.scatter(Latitude, wind)\n",
    "\n",
    "(slope, intercept, rvalue, pvalue, std_err) = linregress(Latitude, wind)\n",
    "regress_values = Latitude * slope + intercept\n",
    "line_eq = \"y = \" + str(round(slope,2)) + \"x + \" + str(round(intercept,2))\n",
    "\n",
    "#Chart Formating \n",
    "plt.plot(Latitude ,regress_values,\"r-\")\n",
    "plt.title(\"Latitude vs. Wind\")\n",
    "plt.annotate(line_eq,(0,25),fontsize=15,color=\"red\")\n",
    "plt.ylabel(\"Wind\")\n",
    "plt.xlabel(\"Latitude\")"
   ]
  },
  {
   "cell_type": "markdown",
   "metadata": {},
   "source": [
    "####  Southern Hemisphere - Wind Speed (mph) vs. Latitude Linear Regression"
   ]
  },
  {
   "cell_type": "code",
   "execution_count": 80,
   "metadata": {},
   "outputs": [
    {
     "data": {
      "text/plain": [
       "Text(0.5, 0, 'Latitude')"
      ]
     },
     "execution_count": 80,
     "metadata": {},
     "output_type": "execute_result"
    },
    {
     "data": {
      "image/png": "[encoded data removed]",
      "text/plain": [
       "<Figure size 432x288 with 1 Axes>"
      ]
     },
     "metadata": {
      "needs_background": "light"
     },
     "output_type": "display_data"
    }
   ],
   "source": [
    "#x values\n",
    "Latitude = southern_data['Latitude']\n",
    "\n",
    "#y values\n",
    "wind = southern_data['Wind']\n",
    "\n",
    "#Establish Scatter Plot\n",
    "plt.scatter(Latitude, wind)\n",
    "\n",
    "(slope, intercept, rvalue, pvalue, std_err) = linregress(Latitude, wind)\n",
    "regress_values = Latitude * slope + intercept\n",
    "line_eq = \"y = \" + str(round(slope,2)) + \"x + \" + str(round(intercept,2))\n",
    "\n",
    "#Chart Formating \n",
    "plt.plot(Latitude ,regress_values,\"r-\")\n",
    "plt.title(\"Latitude vs. Wind\")\n",
    "plt.annotate(line_eq,(-50,23),fontsize=15,color=\"red\")\n",
    "plt.ylabel(\"Wind\")\n",
    "plt.xlabel(\"Latitude\")"
   ]
  },
  {
   "cell_type": "code",
   "execution_count": null,
   "metadata": {},
   "outputs": [],
   "source": []
  }
 ],
 "metadata": {
  "anaconda-cloud": {},
  "kernel_info": {
   "name": "python3"
  },
  "kernelspec": {
   "display_name": "Python 3",
   "language": "python",
   "name": "python3"
  },
  "language_info": {
   "codemirror_mode": {
    "name": "ipython",
    "version": 3
   },
   "file_extension": ".py",
   "mimetype": "text/x-python",
   "name": "python",
   "nbconvert_exporter": "python",
   "pygments_lexer": "ipython3",
   "version": "3.8.8"
  },
  "latex_envs": {
   "LaTeX_envs_menu_present": true,
   "autoclose": false,
   "autocomplete": true,
   "bibliofile": "biblio.bib",
   "cite_by": "apalike",
   "current_citInitial": 1,
   "eqLabelWithNumbers": true,
   "eqNumInitial": 1,
   "hotkeys": {
    "equation": "Ctrl-E",
    "itemize": "Ctrl-I"
   },
   "labels_anchors": false,
   "latex_user_defs": false,
   "report_style_numbering": false,
   "user_envs_cfg": false
  },
  "nteract": {
   "version": "0.12.3"
  }
 },
 "nbformat": 4,
 "nbformat_minor": 2
}
